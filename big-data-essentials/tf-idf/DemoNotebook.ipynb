{
 "cells": [
  {
   "cell_type": "code",
   "execution_count": 6,
   "metadata": {},
   "outputs": [
    {
     "name": "stdout",
     "output_type": "stream",
     "text": [
      "Overwriting mapper1.py\n"
     ]
    }
   ],
   "source": [
    "%%writefile mapper1.py\n",
    "\n",
    "import sys\n",
    "import re\n",
    "\n",
    "reload(sys)\n",
    "sys.setdefaultencoding('utf-8')\n",
    "\n",
    "stop_words = ['a','about','above','across','after','afterwards','again','against','all','almost','alone','along','already','also','although','always','am','among','amongst','amoungst','amount','an','and','another','any','anyhow','anyone','anything','anyway','anywhere','are','around','as','at','back','be','became','because','become','becomes','becoming','been','before','beforehand','behind','being','below','beside','besides','between','beyond','bill','both','bottom','but','by','call','can','cannot','cant','co','computer','con','could','couldnt','cry','de','describe','detail','do','done','down','due','during','each','eg','eight','either','eleven','else','elsewhere','empty','enough','etc','even','ever','every','everyone','everything','everywhere','except','few','fifteen','fify','fill','find','fire','first','five','for','former','formerly','forty','found','four','from','front','full','further','get','give','go','had','has','hasnt','have','he','hence','her','here','hereafter','hereby','herein','hereupon','hers','herse\\\"','him','himse\\\"','his','how','however','hundred','i','ie','if','in','inc','indeed','interest','into','is','it','its','itse\\\"','keep','last','latter','latterly','least','less','ltd','made','many','may','me','meanwhile','might','mill','mine','more','moreover','most','mostly','move','much','must','my','myse\\\"','name','namely','neither','never','nevertheless','next','nine','no','nobody','none','noone','nor','not','nothing','now','nowhere','of','off','often','on','once','one','only','onto','or','other','others','otherwise','our','ours','ourselves','out','over','own','part','per','perhaps','please','put','rather','re','same','see','seem','seemed','seeming','seems','serious','several','she','should','show','side','since','sincere','six','sixty','so','some','somehow','someone','something','sometime','sometimes','somewhere','still','such','system','take','ten','than','that','the','their','them','themselves','then','thence','there','thereafter','thereby','therefore','therein','thereupon','these','they','thick','thin','third','this','those','though','three','through','throughout','thru','thus','to','together','too','top','toward','towards','twelve','twenty','two','un','under','until','up','upon','us','very','via','was','we','well','were','what','whatever','when','whence','whenever','where','whereafter','whereas','whereby','wherein','whereupon','wherever','whether','which','while','whither','who','whoever','whole','whom','whose','why','will','with','within','without','would','yet','you','your','yours','yourself','yourselves']\n",
    "\n",
    "for line in sys.stdin:\n",
    "    try:\n",
    "        article_id, text = unicode(line.strip()).split('\\t', 1)\n",
    "    except ValueError as e:\n",
    "        continue\n",
    "    text = re.sub(\"^\\W+|\\W+$\", \"\", text, flags=re.UNICODE)\n",
    "    words = re.split(\"\\W*\\s+\\W*\", text, flags=re.UNICODE)\n",
    "    for word in words:\n",
    "        word = word.lower()\n",
    "        if word not in stop_words:\n",
    "            print \"%s_%s\\t%d\" % (article_id, word, 1)"
   ]
  },
  {
   "cell_type": "code",
   "execution_count": 7,
   "metadata": {},
   "outputs": [
    {
     "name": "stdout",
     "output_type": "stream",
     "text": [
      "Overwriting reducer1.py\n"
     ]
    }
   ],
   "source": [
    "%%writefile reducer1.py\n",
    "\n",
    "import sys\n",
    "\n",
    "current_key = None\n",
    "word_sum = 0\n",
    "\n",
    "for line in sys.stdin:\n",
    "    try:\n",
    "        key, count = line.strip().split('\\t', 1)\n",
    "        count = int(count)\n",
    "    except ValueError as e:\n",
    "        continue\n",
    "    if current_key != key:\n",
    "        if current_key:\n",
    "            print \"%s\\t%d\" % (current_key, word_sum)\n",
    "        word_sum = 0\n",
    "        current_key = key\n",
    "    word_sum += count\n",
    "\n",
    "if current_key:\n",
    "    print \"%s\\t%d\" % (current_key, word_sum)"
   ]
  },
  {
   "cell_type": "code",
   "execution_count": 9,
   "metadata": {},
   "outputs": [
    {
     "name": "stderr",
     "output_type": "stream",
     "text": [
      "UsageError: %%writefile is a cell magic, but the cell body is empty.\n"
     ]
    }
   ],
   "source": [
    "%%writefile mapper2.py\n",
    "\n",
    "import sys\n",
    "\n",
    "\n",
    "for line in sys.stdin:\n",
    "    try:\n",
    "        key, word_sum = line.strip().split('\\t', 1)\n",
    "        article_id, word = key.split('_')\n",
    "    \n",
    "    line = line.strip()\n",
    "    # split the line into words\n",
    "    wordfilename,count=line.split('\\t',1)\n",
    "    word,filename=wordfilename.split(' ',1)\n",
    "    z=word+' '+count;\n",
    "    print '%s\\t%s' % (filename, z)"
   ]
  },
  {
   "cell_type": "code",
   "execution_count": 8,
   "metadata": {},
   "outputs": [
    {
     "name": "stdout",
     "output_type": "stream",
     "text": [
      "1000_12\t2\n",
      "1000_1893\t2\n",
      "1000_1923\t2\n",
      "1000_1934\t1\n",
      "1000_1945\t3\n",
      "1000_1978\t1\n",
      "1000_1989\t2\n",
      "1000_7\t1\n",
      "1000_abroad\t1\n",
      "1000_acts\t1\n"
     ]
    },
    {
     "name": "stderr",
     "output_type": "stream",
     "text": [
      "rm: `wordcount_result_1515623068789801': No such file or directory\n",
      "18/01/10 22:24:32 INFO client.RMProxy: Connecting to ResourceManager at /0.0.0.0:8032\n",
      "18/01/10 22:24:32 INFO client.RMProxy: Connecting to ResourceManager at /0.0.0.0:8032\n",
      "18/01/10 22:24:34 INFO mapred.FileInputFormat: Total input files to process : 1\n",
      "18/01/10 22:24:34 INFO mapreduce.JobSubmitter: number of splits:2\n",
      "18/01/10 22:24:35 INFO mapreduce.JobSubmitter: Submitting tokens for job: job_1515621032508_0002\n",
      "18/01/10 22:24:35 INFO impl.YarnClientImpl: Submitted application application_1515621032508_0002\n",
      "18/01/10 22:24:35 INFO mapreduce.Job: The url to track the job: http://94b28a5c371b:8088/proxy/application_1515621032508_0002/\n",
      "18/01/10 22:24:35 INFO mapreduce.Job: Running job: job_1515621032508_0002\n",
      "18/01/10 22:24:42 INFO mapreduce.Job: Job job_1515621032508_0002 running in uber mode : false\n",
      "18/01/10 22:24:42 INFO mapreduce.Job:  map 0% reduce 0%\n",
      "18/01/10 22:24:59 INFO mapreduce.Job:  map 5% reduce 0%\n",
      "18/01/10 22:25:04 INFO mapreduce.Job:  map 7% reduce 0%\n",
      "18/01/10 22:25:10 INFO mapreduce.Job:  map 9% reduce 0%\n",
      "18/01/10 22:25:16 INFO mapreduce.Job:  map 11% reduce 0%\n",
      "18/01/10 22:25:22 INFO mapreduce.Job:  map 13% reduce 0%\n",
      "18/01/10 22:25:28 INFO mapreduce.Job:  map 15% reduce 0%\n",
      "18/01/10 22:25:34 INFO mapreduce.Job:  map 18% reduce 0%\n",
      "18/01/10 22:25:40 INFO mapreduce.Job:  map 20% reduce 0%\n",
      "18/01/10 22:25:46 INFO mapreduce.Job:  map 22% reduce 0%\n",
      "18/01/10 22:25:52 INFO mapreduce.Job:  map 24% reduce 0%\n",
      "18/01/10 22:25:58 INFO mapreduce.Job:  map 26% reduce 0%\n",
      "18/01/10 22:26:04 INFO mapreduce.Job:  map 29% reduce 0%\n",
      "18/01/10 22:26:10 INFO mapreduce.Job:  map 31% reduce 0%\n",
      "18/01/10 22:26:16 INFO mapreduce.Job:  map 33% reduce 0%\n",
      "18/01/10 22:26:22 INFO mapreduce.Job:  map 35% reduce 0%\n",
      "18/01/10 22:26:28 INFO mapreduce.Job:  map 37% reduce 0%\n",
      "18/01/10 22:26:35 INFO mapreduce.Job:  map 39% reduce 0%\n",
      "18/01/10 22:26:41 INFO mapreduce.Job:  map 42% reduce 0%\n",
      "18/01/10 22:26:47 INFO mapreduce.Job:  map 44% reduce 0%\n",
      "18/01/10 22:26:53 INFO mapreduce.Job:  map 46% reduce 0%\n",
      "18/01/10 22:26:59 INFO mapreduce.Job:  map 48% reduce 0%\n",
      "18/01/10 22:27:05 INFO mapreduce.Job:  map 51% reduce 0%\n",
      "18/01/10 22:27:11 INFO mapreduce.Job:  map 53% reduce 0%\n",
      "18/01/10 22:27:17 INFO mapreduce.Job:  map 54% reduce 0%\n",
      "18/01/10 22:27:23 INFO mapreduce.Job:  map 56% reduce 0%\n",
      "18/01/10 22:27:29 INFO mapreduce.Job:  map 58% reduce 0%\n",
      "18/01/10 22:27:35 INFO mapreduce.Job:  map 60% reduce 0%\n",
      "18/01/10 22:27:41 INFO mapreduce.Job:  map 62% reduce 0%\n",
      "18/01/10 22:27:47 INFO mapreduce.Job:  map 64% reduce 0%\n",
      "18/01/10 22:27:53 INFO mapreduce.Job:  map 66% reduce 0%\n",
      "18/01/10 22:27:57 INFO mapreduce.Job:  map 83% reduce 0%\n",
      "18/01/10 22:28:00 INFO mapreduce.Job:  map 94% reduce 0%\n",
      "18/01/10 22:28:01 INFO mapreduce.Job:  map 100% reduce 0%\n",
      "18/01/10 22:28:50 INFO mapreduce.Job:  map 100% reduce 48%\n",
      "18/01/10 22:28:52 INFO mapreduce.Job:  map 100% reduce 57%\n",
      "18/01/10 22:28:56 INFO mapreduce.Job:  map 100% reduce 66%\n",
      "18/01/10 22:29:01 INFO mapreduce.Job:  map 100% reduce 69%\n",
      "18/01/10 22:29:02 INFO mapreduce.Job:  map 100% reduce 71%\n",
      "18/01/10 22:29:04 INFO mapreduce.Job:  map 100% reduce 74%\n",
      "18/01/10 22:29:10 INFO mapreduce.Job:  map 100% reduce 75%\n",
      "18/01/10 22:29:24 INFO mapreduce.Job:  map 100% reduce 88%\n",
      "18/01/10 22:29:25 INFO mapreduce.Job:  map 100% reduce 100%\n",
      "18/01/10 22:29:29 INFO mapreduce.Job: Job job_1515621032508_0002 completed successfully\n",
      "18/01/10 22:29:30 INFO mapreduce.Job: Counters: 50\n",
      "\tFile System Counters\n",
      "\t\tFILE: Number of bytes read=232966855\n",
      "\t\tFILE: Number of bytes written=350755081\n",
      "\t\tFILE: Number of read operations=0\n",
      "\t\tFILE: Number of large read operations=0\n",
      "\t\tFILE: Number of write operations=0\n",
      "\t\tHDFS: Number of bytes read=76874501\n",
      "\t\tHDFS: Number of bytes written=52516658\n",
      "\t\tHDFS: Number of read operations=30\n",
      "\t\tHDFS: Number of large read operations=0\n",
      "\t\tHDFS: Number of write operations=16\n",
      "\tJob Counters \n",
      "\t\tKilled reduce tasks=1\n",
      "\t\tLaunched map tasks=2\n",
      "\t\tLaunched reduce tasks=9\n",
      "\t\tData-local map tasks=2\n",
      "\t\tTotal time spent by all maps in occupied slots (ms)=388735\n",
      "\t\tTotal time spent by all reduces in occupied slots (ms)=432124\n",
      "\t\tTotal time spent by all map tasks (ms)=388735\n",
      "\t\tTotal time spent by all reduce tasks (ms)=432124\n",
      "\t\tTotal vcore-milliseconds taken by all map tasks=388735\n",
      "\t\tTotal vcore-milliseconds taken by all reduce tasks=432124\n",
      "\t\tTotal megabyte-milliseconds taken by all map tasks=398064640\n",
      "\t\tTotal megabyte-milliseconds taken by all reduce tasks=442494976\n",
      "\tMap-Reduce Framework\n",
      "\t\tMap input records=4100\n",
      "\t\tMap output records=6971026\n",
      "\t\tMap output bytes=102510699\n",
      "\t\tMap output materialized bytes=116452859\n",
      "\t\tInput split bytes=228\n",
      "\t\tCombine input records=0\n",
      "\t\tCombine output records=0\n",
      "\t\tReduce input groups=3472288\n",
      "\t\tReduce shuffle bytes=116452859\n",
      "\t\tReduce input records=6971026\n",
      "\t\tReduce output records=3472288\n",
      "\t\tSpilled Records=20913078\n",
      "\t\tShuffled Maps =16\n",
      "\t\tFailed Shuffles=0\n",
      "\t\tMerged Map outputs=16\n",
      "\t\tGC time elapsed (ms)=7895\n",
      "\t\tCPU time spent (ms)=472170\n",
      "\t\tPhysical memory (bytes) snapshot=1947283456\n",
      "\t\tVirtual memory (bytes) snapshot=19859247104\n",
      "\t\tTotal committed heap usage (bytes)=1245184000\n",
      "\tShuffle Errors\n",
      "\t\tBAD_ID=0\n",
      "\t\tCONNECTION=0\n",
      "\t\tIO_ERROR=0\n",
      "\t\tWRONG_LENGTH=0\n",
      "\t\tWRONG_MAP=0\n",
      "\t\tWRONG_REDUCE=0\n",
      "\tFile Input Format Counters \n",
      "\t\tBytes Read=76874273\n",
      "\tFile Output Format Counters \n",
      "\t\tBytes Written=52516658\n",
      "18/01/10 22:29:30 INFO streaming.StreamJob: Output directory: wordcount_result_1515623068789801\n",
      "cat: Unable to write to output stream.\n"
     ]
    }
   ],
   "source": [
    "%%bash\n",
    "\n",
    "OUT_DIR=\"wordcount_result_\"$(date +\"%s%6N\")\n",
    "NUM_REDUCERS=8\n",
    "\n",
    "hdfs dfs -rm -r -skipTrash ${OUT_DIR} > /dev/null\n",
    "\n",
    "yarn jar /opt/cloudera/parcels/CDH/lib/hadoop-mapreduce/hadoop-streaming.jar \\\n",
    "    -D mapred.jab.name=\"Tf-idf\" \\\n",
    "    -D mapreduce.job.reduces=${NUM_REDUCERS} \\\n",
    "    -files mapper1.py,reducer1.py \\\n",
    "    -mapper \"python mapper1.py\" \\\n",
    "    -reducer \"python reducer1.py\" \\\n",
    "    -input /data/wiki/en_articles_part \\\n",
    "    -output ${OUT_DIR} > /dev/null\n",
    "\n",
    "hdfs dfs -cat ${OUT_DIR}/part-00000 | head"
   ]
  },
  {
   "cell_type": "code",
   "execution_count": null,
   "metadata": {
    "collapsed": true
   },
   "outputs": [],
   "source": []
  }
 ],
 "metadata": {
  "kernelspec": {
   "display_name": "Python 2",
   "language": "python",
   "name": "python2"
  },
  "language_info": {
   "codemirror_mode": {
    "name": "ipython",
    "version": 2
   },
   "file_extension": ".py",
   "mimetype": "text/x-python",
   "name": "python",
   "nbconvert_exporter": "python",
   "pygments_lexer": "ipython2",
   "version": "2.7.12"
  }
 },
 "nbformat": 4,
 "nbformat_minor": 2
}
