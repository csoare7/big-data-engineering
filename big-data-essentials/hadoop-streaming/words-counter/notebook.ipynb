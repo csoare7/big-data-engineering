{
 "cells": [
  {
   "cell_type": "code",
   "execution_count": 3,
   "metadata": {},
   "outputs": [
    {
     "name": "stdout",
     "output_type": "stream",
     "text": [
      "Overwriting mapper.py\n"
     ]
    }
   ],
   "source": [
    "%%writefile mapper.py\n",
    "\n",
    "import sys\n",
    "import re\n",
    "\n",
    "reload(sys)\n",
    "sys.setdefaultencoding('utf-8') # required to convert to unicode\n",
    "\n",
    "for line in sys.stdin:\n",
    "    try:\n",
    "        article_id, text = unicode(line.strip()).split('\\t', 1)\n",
    "    except ValueError as e:\n",
    "        continue\n",
    "    words = re.split(\"\\W*\\s+\\W*\", text, flags=re.UNICODE)\n",
    "    for word in words:\n",
    "        print >> sys.stderr, \"reporter:counter:Wiki stats,Total words,%d\" % 1\n",
    "        print \"%s\\t%d\" % (word.lower(), 1)"
   ]
  },
  {
   "cell_type": "code",
   "execution_count": 4,
   "metadata": {},
   "outputs": [
    {
     "name": "stdout",
     "output_type": "stream",
     "text": [
      "Overwriting reducer.py\n"
     ]
    }
   ],
   "source": [
    "%%writefile reducer.py\n",
    "\n",
    "import sys\n",
    "\n",
    "current_key = None\n",
    "word_sum = 0"
   ]
  },
  {
   "cell_type": "code",
   "execution_count": 5,
   "metadata": {},
   "outputs": [
    {
     "name": "stdout",
     "output_type": "stream",
     "text": [
      "Appending to reducer.py\n"
     ]
    }
   ],
   "source": [
    "%%writefile -a reducer.py\n",
    "\n",
    "for line in sys.stdin:\n",
    "    try:\n",
    "        key, count = line.strip().split('\\t', 1)\n",
    "        count = int(count)\n",
    "    except ValueError as e:\n",
    "        continue\n",
    "    if current_key != key:\n",
    "        if current_key:\n",
    "            print \"%s\\t%d\" % (current_key, word_sum)\n",
    "        word_sum = 0\n",
    "        current_key = key\n",
    "    word_sum += count\n",
    "\n",
    "if current_key:\n",
    "    print \"%s\\t%d\" % (current_key, word_sum)"
   ]
  },
  {
   "cell_type": "code",
   "execution_count": 6,
   "metadata": {},
   "outputs": [
    {
     "name": "stdout",
     "output_type": "stream",
     "text": [
      "Overwriting reverse_mapper.py\n"
     ]
    }
   ],
   "source": [
    "%%writefile reverse_mapper.py\n",
    "\n",
    "import sys\n",
    "\n",
    "\n",
    "for line in sys.stdin:\n",
    "    try:\n",
    "        word, count = line.strip().split('\\t', 1)\n",
    "        count = int(count)\n",
    "        print(\"{0}\\t{1}\".format(count, word))\n",
    "    except ValueError as e:\n",
    "        continue"
   ]
  },
  {
   "cell_type": "code",
   "execution_count": 7,
   "metadata": {},
   "outputs": [
    {
     "name": "stdout",
     "output_type": "stream",
     "text": [
      "Overwriting reverse_reducer.py\n"
     ]
    }
   ],
   "source": [
    "%%writefile reverse_reducer.py\n",
    "\n",
    "import sys\n",
    "\n",
    "\n",
    "for line in sys.stdin:\n",
    "    try:\n",
    "        count, word = line.strip().split('\\t', 1)\n",
    "        count = int(count)\n",
    "        print(\"{0}\\t{1}\".format(word, count))\n",
    "    except ValueError as e:\n",
    "        continue"
   ]
  },
  {
   "cell_type": "code",
   "execution_count": 10,
   "metadata": {},
   "outputs": [
    {
     "name": "stdout",
     "output_type": "stream",
     "text": [
      "is\t126420\n"
     ]
    },
    {
     "name": "stderr",
     "output_type": "stream",
     "text": [
      "rm: `wordcount_result_1512513115281463': No such file or directory\n",
      "17/12/05 22:31:58 INFO client.RMProxy: Connecting to ResourceManager at /0.0.0.0:8032\n",
      "17/12/05 22:31:58 INFO client.RMProxy: Connecting to ResourceManager at /0.0.0.0:8032\n",
      "17/12/05 22:31:59 INFO mapred.FileInputFormat: Total input files to process : 1\n",
      "17/12/05 22:31:59 INFO mapreduce.JobSubmitter: number of splits:2\n",
      "17/12/05 22:31:59 INFO mapreduce.JobSubmitter: Submitting tokens for job: job_1512434726053_0019\n",
      "17/12/05 22:31:59 INFO impl.YarnClientImpl: Submitted application application_1512434726053_0019\n",
      "17/12/05 22:31:59 INFO mapreduce.Job: The url to track the job: http://6b73bcabe5ca:8088/proxy/application_1512434726053_0019/\n",
      "17/12/05 22:31:59 INFO mapreduce.Job: Running job: job_1512434726053_0019\n",
      "17/12/05 22:32:39 INFO mapreduce.Job: Job job_1512434726053_0019 running in uber mode : false\n",
      "17/12/05 22:32:39 INFO mapreduce.Job:  map 0% reduce 0%\n",
      "17/12/05 22:32:55 INFO mapreduce.Job:  map 27% reduce 0%\n",
      "17/12/05 22:33:01 INFO mapreduce.Job:  map 42% reduce 0%\n",
      "17/12/05 22:33:07 INFO mapreduce.Job:  map 51% reduce 0%\n",
      "17/12/05 22:33:13 INFO mapreduce.Job:  map 65% reduce 0%\n",
      "17/12/05 22:33:19 INFO mapreduce.Job:  map 90% reduce 0%\n",
      "17/12/05 22:33:20 INFO mapreduce.Job:  map 92% reduce 0%\n",
      "17/12/05 22:33:21 INFO mapreduce.Job:  map 100% reduce 0%\n",
      "17/12/05 22:33:28 INFO mapreduce.Job:  map 100% reduce 13%\n",
      "17/12/05 22:33:29 INFO mapreduce.Job:  map 100% reduce 25%\n",
      "17/12/05 22:33:31 INFO mapreduce.Job:  map 100% reduce 38%\n",
      "17/12/05 22:33:32 INFO mapreduce.Job:  map 100% reduce 75%\n",
      "17/12/05 22:33:36 INFO mapreduce.Job:  map 100% reduce 100%\n",
      "17/12/05 22:33:36 INFO mapreduce.Job: Job job_1512434726053_0019 completed successfully\n",
      "17/12/05 22:33:36 INFO mapreduce.Job: Counters: 51\n",
      "\tFile System Counters\n",
      "\t\tFILE: Number of bytes read=243475435\n",
      "\t\tFILE: Number of bytes written=366548400\n",
      "\t\tFILE: Number of read operations=0\n",
      "\t\tFILE: Number of large read operations=0\n",
      "\t\tFILE: Number of write operations=0\n",
      "\t\tHDFS: Number of bytes read=76874501\n",
      "\t\tHDFS: Number of bytes written=5370513\n",
      "\t\tHDFS: Number of read operations=30\n",
      "\t\tHDFS: Number of large read operations=0\n",
      "\t\tHDFS: Number of write operations=16\n",
      "\tJob Counters \n",
      "\t\tKilled reduce tasks=1\n",
      "\t\tLaunched map tasks=2\n",
      "\t\tLaunched reduce tasks=8\n",
      "\t\tData-local map tasks=2\n",
      "\t\tTotal time spent by all maps in occupied slots (ms)=77948\n",
      "\t\tTotal time spent by all reduces in occupied slots (ms)=52255\n",
      "\t\tTotal time spent by all map tasks (ms)=77948\n",
      "\t\tTotal time spent by all reduce tasks (ms)=52255\n",
      "\t\tTotal vcore-milliseconds taken by all map tasks=77948\n",
      "\t\tTotal vcore-milliseconds taken by all reduce tasks=52255\n",
      "\t\tTotal megabyte-milliseconds taken by all map tasks=79818752\n",
      "\t\tTotal megabyte-milliseconds taken by all reduce tasks=53509120\n",
      "\tMap-Reduce Framework\n",
      "\t\tMap input records=4100\n",
      "\t\tMap output records=11937375\n",
      "\t\tMap output bytes=97842436\n",
      "\t\tMap output materialized bytes=121717292\n",
      "\t\tInput split bytes=228\n",
      "\t\tCombine input records=0\n",
      "\t\tCombine output records=0\n",
      "\t\tReduce input groups=427176\n",
      "\t\tReduce shuffle bytes=121717292\n",
      "\t\tReduce input records=11937375\n",
      "\t\tReduce output records=427175\n",
      "\t\tSpilled Records=35812125\n",
      "\t\tShuffled Maps =16\n",
      "\t\tFailed Shuffles=0\n",
      "\t\tMerged Map outputs=16\n",
      "\t\tGC time elapsed (ms)=1540\n",
      "\t\tCPU time spent (ms)=179330\n",
      "\t\tPhysical memory (bytes) snapshot=2377900032\n",
      "\t\tVirtual memory (bytes) snapshot=20226637824\n",
      "\t\tTotal committed heap usage (bytes)=1571291136\n",
      "\tShuffle Errors\n",
      "\t\tBAD_ID=0\n",
      "\t\tCONNECTION=0\n",
      "\t\tIO_ERROR=0\n",
      "\t\tWRONG_LENGTH=0\n",
      "\t\tWRONG_MAP=0\n",
      "\t\tWRONG_REDUCE=0\n",
      "\tWiki stats\n",
      "\t\tTotal words=11937375\n",
      "\tFile Input Format Counters \n",
      "\t\tBytes Read=76874273\n",
      "\tFile Output Format Counters \n",
      "\t\tBytes Written=5370513\n",
      "17/12/05 22:33:36 INFO streaming.StreamJob: Output directory: wordcount_result_1512513115281463\n",
      "rm: `wordcount_final_1512513216838760': No such file or directory\n",
      "17/12/05 22:33:40 INFO client.RMProxy: Connecting to ResourceManager at /0.0.0.0:8032\n",
      "17/12/05 22:33:40 INFO client.RMProxy: Connecting to ResourceManager at /0.0.0.0:8032\n",
      "17/12/05 22:33:41 INFO mapred.FileInputFormat: Total input files to process : 8\n",
      "17/12/05 22:33:41 INFO mapreduce.JobSubmitter: number of splits:8\n",
      "17/12/05 22:33:41 INFO mapreduce.JobSubmitter: Submitting tokens for job: job_1512434726053_0020\n",
      "17/12/05 22:33:41 INFO impl.YarnClientImpl: Submitted application application_1512434726053_0020\n",
      "17/12/05 22:33:41 INFO mapreduce.Job: The url to track the job: http://6b73bcabe5ca:8088/proxy/application_1512434726053_0020/\n",
      "17/12/05 22:33:41 INFO mapreduce.Job: Running job: job_1512434726053_0020\n",
      "17/12/05 22:33:48 INFO mapreduce.Job: Job job_1512434726053_0020 running in uber mode : false\n",
      "17/12/05 22:33:48 INFO mapreduce.Job:  map 0% reduce 0%\n",
      "17/12/05 22:33:53 INFO mapreduce.Job:  map 75% reduce 0%\n",
      "17/12/05 22:33:57 INFO mapreduce.Job:  map 100% reduce 0%\n",
      "17/12/05 22:34:00 INFO mapreduce.Job:  map 100% reduce 100%\n",
      "17/12/05 22:34:00 INFO mapreduce.Job: Job job_1512434726053_0020 completed successfully\n",
      "17/12/05 22:34:00 INFO mapreduce.Job: Counters: 49\n",
      "\tFile System Counters\n",
      "\t\tFILE: Number of bytes read=6224888\n",
      "\t\tFILE: Number of bytes written=13710780\n",
      "\t\tFILE: Number of read operations=0\n",
      "\t\tFILE: Number of large read operations=0\n",
      "\t\tFILE: Number of write operations=0\n",
      "\t\tHDFS: Number of bytes read=5371553\n",
      "\t\tHDFS: Number of bytes written=5370513\n",
      "\t\tHDFS: Number of read operations=27\n",
      "\t\tHDFS: Number of large read operations=0\n",
      "\t\tHDFS: Number of write operations=2\n",
      "\tJob Counters \n",
      "\t\tLaunched map tasks=8\n",
      "\t\tLaunched reduce tasks=1\n",
      "\t\tData-local map tasks=8\n",
      "\t\tTotal time spent by all maps in occupied slots (ms)=25704\n",
      "\t\tTotal time spent by all reduces in occupied slots (ms)=3909\n",
      "\t\tTotal time spent by all map tasks (ms)=25704\n",
      "\t\tTotal time spent by all reduce tasks (ms)=3909\n",
      "\t\tTotal vcore-milliseconds taken by all map tasks=25704\n",
      "\t\tTotal vcore-milliseconds taken by all reduce tasks=3909\n",
      "\t\tTotal megabyte-milliseconds taken by all map tasks=26320896\n",
      "\t\tTotal megabyte-milliseconds taken by all reduce tasks=4002816\n",
      "\tMap-Reduce Framework\n",
      "\t\tMap input records=427175\n",
      "\t\tMap output records=427175\n",
      "\t\tMap output bytes=5370522\n",
      "\t\tMap output materialized bytes=6224930\n",
      "\t\tInput split bytes=1040\n",
      "\t\tCombine input records=0\n",
      "\t\tCombine output records=0\n",
      "\t\tReduce input groups=2075\n",
      "\t\tReduce shuffle bytes=6224930\n",
      "\t\tReduce input records=427175\n",
      "\t\tReduce output records=427175\n",
      "\t\tSpilled Records=854350\n",
      "\t\tShuffled Maps =8\n",
      "\t\tFailed Shuffles=0\n",
      "\t\tMerged Map outputs=8\n",
      "\t\tGC time elapsed (ms)=1042\n",
      "\t\tCPU time spent (ms)=15720\n",
      "\t\tPhysical memory (bytes) snapshot=2567208960\n",
      "\t\tVirtual memory (bytes) snapshot=18107547648\n",
      "\t\tTotal committed heap usage (bytes)=1752694784\n",
      "\tShuffle Errors\n",
      "\t\tBAD_ID=0\n",
      "\t\tCONNECTION=0\n",
      "\t\tIO_ERROR=0\n",
      "\t\tWRONG_LENGTH=0\n",
      "\t\tWRONG_MAP=0\n",
      "\t\tWRONG_REDUCE=0\n",
      "\tFile Input Format Counters \n",
      "\t\tBytes Read=5370513\n",
      "\tFile Output Format Counters \n",
      "\t\tBytes Written=5370513\n",
      "17/12/05 22:34:00 INFO streaming.StreamJob: Output directory: wordcount_final_1512513216838760\n",
      "cat: Unable to write to output stream.\n"
     ]
    }
   ],
   "source": [
    "%%bash\n",
    "\n",
    "OUT_DIR=\"wordcount_result_\"$(date +\"%s%6N\")\n",
    "NUM_REDUCERS=8\n",
    "\n",
    "hdfs dfs -rm -r -skipTrash ${OUT_DIR} > /dev/null\n",
    "\n",
    "yarn jar /opt/cloudera/parcels/CDH/lib/hadoop-mapreduce/hadoop-streaming.jar \\\n",
    "    -D mapred.jab.name=\"Streaming wordCount\" \\\n",
    "    -D mapreduce.job.reduces=${NUM_REDUCERS} \\\n",
    "    -files mapper.py,reducer.py \\\n",
    "    -mapper \"python mapper.py\" \\\n",
    "    -reducer \"python reducer.py\" \\\n",
    "    -input /data/wiki/en_articles_part \\\n",
    "    -output ${OUT_DIR} > /dev/null\n",
    "\n",
    "# hdfs dfs -cat ${OUT_DIR}/part-00000 | head\n",
    "OUT_DIR_FINAL=\"wordcount_final_\"$(date +\"%s%6N\")\n",
    "NUM_REDUCERS=1\n",
    "\n",
    "hdfs dfs -rm -r -skipTrash ${OUT_DIR_FINAL} > /dev/null\n",
    "\n",
    "yarn jar /opt/cloudera/parcels/CDH/lib/hadoop-mapreduce/hadoop-streaming.jar \\\n",
    "    -D mapred.jab.name=\"Streaming wordCount\" \\\n",
    "    -D mapreduce.job.output.key.comparator.class=org.apache.hadoop.mapred.lib.KeyFieldBasedComparator \\\n",
    "    -D mapreduce.partition.keycomparator.options=-nr \\\n",
    "    -D mapreduce.job.reduces=${NUM_REDUCERS} \\\n",
    "    -files reverse_mapper.py,reverse_reducer.py \\\n",
    "    -mapper \"python reverse_mapper.py\" \\\n",
    "    -reducer \"python reverse_reducer.py\" \\\n",
    "    -input ${OUT_DIR} \\\n",
    "    -output ${OUT_DIR_FINAL} > /dev/null\n",
    "\n",
    "hdfs dfs -cat ${OUT_DIR_FINAL}/part-00000 | head -7 | tail -1"
   ]
  },
  {
   "cell_type": "code",
   "execution_count": null,
   "metadata": {
    "collapsed": true
   },
   "outputs": [],
   "source": []
  }
 ],
 "metadata": {
  "kernelspec": {
   "display_name": "Python 3",
   "language": "python",
   "name": "python3"
  },
  "language_info": {
   "codemirror_mode": {
    "name": "ipython",
    "version": 3
   },
   "file_extension": ".py",
   "mimetype": "text/x-python",
   "name": "python",
   "nbconvert_exporter": "python",
   "pygments_lexer": "ipython3",
   "version": "3.6.2"
  }
 },
 "nbformat": 4,
 "nbformat_minor": 2
}
